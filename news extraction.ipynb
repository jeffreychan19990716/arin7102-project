{
 "cells": [
  {
   "cell_type": "code",
   "execution_count": 1,
   "metadata": {},
   "outputs": [],
   "source": [
    "import requests, json"
   ]
  },
  {
   "cell_type": "code",
   "execution_count": 6,
   "metadata": {},
   "outputs": [],
   "source": [
    "# earliest = 2022/03/01\n",
    "\n",
    "url='https://www.alphavantage.co/query?function=NEWS_SENTIMENT&tickers=CVX&apikey=DVCH41JKGLK7G4UK&time_from=20240314T0130&time_to=20240414T0130&sort=LATEST&limit=5'\n",
    "x=requests.get(url)\n",
    "xmlstr=x.content.decode('utf-8')\n",
    "\n",
    "news = json.loads(xmlstr)\n",
    "\n",
    "# for a in range(50):\n",
    "#     print(a)\n",
    "#     print(news[\"feed\"][a][\"summary\"])\n"
   ]
  },
  {
   "cell_type": "code",
   "execution_count": null,
   "metadata": {},
   "outputs": [],
   "source": [
    "# The format downloaded using alpha vantage\n",
    "\n",
    "{'items': '50', 'sentiment_score_definition': 'x <= -0.35: Bearish; -0.35 < x <= -0.15: Somewhat-Bearish; -0.15 < x < 0.15: Neutral; 0.15 <= x < 0.35: Somewhat_Bullish; x >= 0.35: Bullish', 'relevance_score_definition': '0 < x <= 1, with a higher score indicating higher relevance.', 'feed': [{'title': 'Chevron Corporation  ( CVX )  Is a Trending Stock: Facts to Know Before Betting on It', 'url': 'https://www.zacks.com/stock/news/2254331/chevron-corporation-cvx-is-a-trending-stock-facts-to-know-before-betting-on-it', 'time_published': '20240412T130015', 'authors': ['Zacks Equity Research'], 'summary': 'Chevron (CVX) has been one of the stocks most watched by Zacks.com users lately. So, it is worth exploring what lies ahead for the stock.', 'banner_image': 'https://staticx-tuner.zacks.com/images/default_article_images/default199.jpg', 'source': 'Zacks Commentary', 'category_within_source': 'n/a', 'source_domain': 'www.zacks.com', 'topics': [{'topic': 'Earnings', 'relevance_score': '0.999999'}, {'topic': 'Energy & Transportation', 'relevance_score': '1.0'}, {'topic': 'Financial Markets', 'relevance_score': '0.5855'}], 'overall_sentiment_score': 0.219765, 'overall_sentiment_label': 'Somewhat-Bullish', 'ticker_sentiment': [{'ticker': 'CVX', 'relevance_score': '0.522096', 'ticker_sentiment_score': '0.143942', 'ticker_sentiment_label': 'Neutral'}]}, {'title': \"Will This Technical Hurdle End Exxon Mobil's Longest Advance In 17 Years?\", 'url': 'https://www.investors.com/news/exxon-mobil-stock-chevron-oil-prices/', 'time_published': '20240412T125200', 'authors': [\"Investor's Business Daily\", 'KIT NORTON'], 'summary': \"Exxon Mobil Stock Is Headed For Its Longest Advance In 17 Years As Tensions Rise In The Middle East Investor's Business Daily ...\", 'banner_image': 'https://www.investors.com/wp-content/uploads/2019/08/stock-exxon-mobile-05-shutter.jpg', 'source': 'Investors Business Daily', 'category_within_source': 'n/a', 'source_domain': 'www.investors.com', 'topics': [{'topic': 'Earnings', 'relevance_score': '0.986714'}, {'topic': 'Energy & Transportation', 'relevance_score': '1.0'}, {'topic': 'Financial Markets', 'relevance_score': '0.54554'}], 'overall_sentiment_score': 0.019325, 'overall_sentiment_label': 'Neutral', 'ticker_sentiment': [{'ticker': 'OXY', 'relevance_score': '0.12013', 'ticker_sentiment_score': '0.242497', 'ticker_sentiment_label': 'Somewhat-Bullish'}, {'ticker': 'MRO', 'relevance_score': '0.12013', 'ticker_sentiment_score': '0.242497', 'ticker_sentiment_label': 'Somewhat-Bullish'}, {'ticker': 'CVX', 'relevance_score': '0.403172', 'ticker_sentiment_score': '0.016832', 'ticker_sentiment_label': 'Neutral'}, {'ticker': 'COP', 'relevance_score': '0.12013', 'ticker_sentiment_score': '0.242497', 'ticker_sentiment_label': 'Somewhat-Bullish'}, {'ticker': 'DVN', 'relevance_score': '0.12013', 'ticker_sentiment_score': '0.242497', 'ticker_sentiment_label': 'Somewhat-Bullish'}, {'ticker': 'XOM', 'relevance_score': '0.709915', 'ticker_sentiment_score': '0.107408', 'ticker_sentiment_label': 'Neutral'}]}]}"
   ]
  },
  {
   "cell_type": "code",
   "execution_count": null,
   "metadata": {},
   "outputs": [],
   "source": [
    "from openai import OpenAI\n",
    "\n",
    "# Point to the local server\n",
    "client = OpenAI(base_url=\"http://localhost:1234/v1\", api_key=\"not-needed\")\n",
    "\n",
    "content = \"The News summary is: \" + news[\"feed\"][22][\"summary\"] + \"\"\"\n",
    "Firstly, answer \"Yes, this news is related to ESG\" if this news is related to ESG, either one aspect or indirect impplication is also ok, then analyze how this news is related to ESG in the three aspect (E, S, G).\n",
    "Answer in the form of:\n",
    "1. Environmental: \n",
    "2. Social:\n",
    "3. Governance:\n",
    "\n",
    "Answer \"No, this news is not related to ESG\" if this news is not related to ESG, no need do the further analyze.\n",
    "\"\"\"\n",
    "\n",
    "completion = client.chat.completions.create(\n",
    "  model=\"local-model\", # this field is currently unused\n",
    "  messages=[\n",
    "    {\"role\": \"user\", \"content\": content},\n",
    "  ],\n",
    "  temperature=0.7,\n",
    ")\n",
    "\n",
    "print(completion.choices[0].message.content)"
   ]
  }
 ],
 "metadata": {
  "kernelspec": {
   "display_name": "Python 3",
   "language": "python",
   "name": "python3"
  },
  "language_info": {
   "codemirror_mode": {
    "name": "ipython",
    "version": 3
   },
   "file_extension": ".py",
   "mimetype": "text/x-python",
   "name": "python",
   "nbconvert_exporter": "python",
   "pygments_lexer": "ipython3",
   "version": "3.11.0"
  }
 },
 "nbformat": 4,
 "nbformat_minor": 2
}
